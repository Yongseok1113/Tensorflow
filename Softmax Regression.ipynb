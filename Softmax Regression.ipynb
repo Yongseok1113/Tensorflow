{
 "cells": [
  {
   "cell_type": "code",
   "execution_count": 1,
   "metadata": {},
   "outputs": [
    {
     "data": {
      "text/plain": [
       "'\\nSoftmax Regression?\\nMultinomial Classification : 세가지 이상으로 분류\\n\\nex) 점수에 따른 학점 분류\\n\\nbinary classifiaction 여러개로 구현한다.\\n\\nA or not classifiation\\nB or not ,,\\nC or not ,,\\n\\n[a1, a2, a3] X [[x1], [x2], [x3]] = Y1\\n[b1, b2, b3] X [[x1], [x2], [x3]] = Y2\\n[c1, c2, c3] X [[x1], [x2], [x3]] = Y3 \\n\\n=>\\n\\n[ [a1, a2, a3],\\n  [b1, b2, b3],\\n  [c1, c2, c3]] X [[x1], [x2], [x3]] => [[Y1], [Y2], [Y3]]\\n\\n결과값이 행렬로 표현 된다고 할 때, \\n\\n이것을 소프트맥스 함수를 이용하여 각 결과값을 0과1사이 수치값(확률?)으로 계산한다. \\n그 다음 가장 큰 값(가장 높은 확률)을 1로 나머지를 0으로 바꾼다.\\n\\n예를들어 [[Y1], [Y2], [Y3]] => [[0.7], [0.2], [0.1]] => [[1], [0], [0]] 이다\\n\\nhypothesis = tf.nn.softmax(tf.matmul(W, X))\\n\\n'"
      ]
     },
     "execution_count": 1,
     "metadata": {},
     "output_type": "execute_result"
    }
   ],
   "source": [
    "\"\"\"\n",
    "Softmax Regression?\n",
    "Multinomial Classification : 세가지 이상으로 분류\n",
    "\n",
    "ex) 점수에 따른 학점 분류\n",
    "\n",
    "binary classifiaction 여러개로 구현한다.\n",
    "\n",
    "A or not classifiation\n",
    "B or not ,,\n",
    "C or not ,,\n",
    "\n",
    "[a1, a2, a3] X [[x1], [x2], [x3]] = Y1\n",
    "[b1, b2, b3] X [[x1], [x2], [x3]] = Y2\n",
    "[c1, c2, c3] X [[x1], [x2], [x3]] = Y3 \n",
    "\n",
    "=>\n",
    "\n",
    "[ [a1, a2, a3],\n",
    "  [b1, b2, b3],\n",
    "  [c1, c2, c3]] X [[x1], [x2], [x3]] => [[Y1], [Y2], [Y3]]\n",
    "\n",
    "결과값이 행렬로 표현 된다고 할 때, \n",
    "\n",
    "이것을 소프트맥스 함수를 이용하여 각 결과값을 0과1사이 수치값(확률?)으로 계산한다. \n",
    "그 다음 가장 큰 값(가장 높은 확률)을 1로 나머지를 0으로 바꾼다.\n",
    "\n",
    "예를들어 [[Y1], [Y2], [Y3]] => [[0.7], [0.2], [0.1]] => [[1], [0], [0]] 이다\n",
    "\n",
    "hypothesis = tf.nn.softmax(tf.matmul(W, X))\n",
    "\n",
    "\"\"\""
   ]
  },
  {
   "cell_type": "code",
   "execution_count": null,
   "metadata": {},
   "outputs": [],
   "source": [
    "import tensorflow as tf\n",
    "'''\n",
    "변수 4개를 통해 나오는 1개 결과는 (0, 1, 2)세가지 중 하나. \n",
    "y_data 는 one-hot encoding 방식으로 표현된 결과 \n",
    "'''\n",
    "#data \n",
    "x_data = [[1, 2, 1, 1], [2, 1, 3, 2], [3, 1, 3, 4], [4, 1, 5, 5], [1, 7, 5, 5], [1, 2, 5, 6], [1, 6, 6, 6], [1, 7, 7, 7]]\n",
    "y_data = [[0, 0, 1], [0, 0, 1], [0, 0, 1], [0, 1, 0], [0, 1, 0], [0, 1, 0], [1, 0, 0], [1, 0, 0]]\n",
    "#y_data = [[2], [2], [2], [1], [1], [1], [0], [0]]\n",
    "nb_classes = 3\n",
    "#node\n",
    "X = tf.placeholder(tf.float32, shape=[None, 4])\n",
    "Y = tf.placeholder(tf.float32, shape=[None, nb_classes])\n",
    "\n",
    "W = tf.Variable(tf.random_normal([4, nb_classes]), name='weight')\n",
    "b = tf.Variable(tf.random_normal([1, nb_classes]), name='bias')\n",
    "\n",
    "hypothesis = tf.nn.softmax(tf.matmul(X, W) + b)\n",
    "\n",
    "cost = tf.reduce_mean(tf.reduce_sum(Y * hypothesis))"
   ]
  }
 ],
 "metadata": {
  "kernelspec": {
   "display_name": "Python 3",
   "language": "python",
   "name": "python3"
  },
  "language_info": {
   "codemirror_mode": {
    "name": "ipython",
    "version": 3
   },
   "file_extension": ".py",
   "mimetype": "text/x-python",
   "name": "python",
   "nbconvert_exporter": "python",
   "pygments_lexer": "ipython3",
   "version": "3.7.3"
  }
 },
 "nbformat": 4,
 "nbformat_minor": 2
}
