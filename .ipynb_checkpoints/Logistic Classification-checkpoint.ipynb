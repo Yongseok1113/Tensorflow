{
 "cells": [
  {
   "cell_type": "code",
   "execution_count": 1,
   "metadata": {},
   "outputs": [
    {
     "data": {
      "text/plain": [
       "'\\nBinary Classification\\n둘 중 하나로 분류. \\nex)\\ndetect spam e-mail : Spam or Ham\\n\\nlinear regression 으로는 부적합한 케이스.\\n\\n예를 들어 pass, nonpass를 분류할 때 \\n\\n6시간 이상 공부한 사람은 pass라는 데이터가 있다고하면\\n\\n50시간 이상 공부한 사람이 pass인 것을 학습시킬 경우. hypothesis의 기울기가 점점 낮아진다. \\n\\n0과 1사이인 0.5 이상이면 합격인 알고리즘이라 할 때 더 긴 시간을 공부한 사람의 데이터를 학습시킬 수록 기울기가 낮아지게 되고\\n\\n6시간 이상이면서 0.5미만인 데이터가 생긴다. 결국 실제로는 합격인데 불합격을 예측해버리는 상황이 된다.\\n\\n이런 문제를 해결하기위해 특정 두개의 값으로 부드럽게 수렴하는 그래프를 찾게 되는데 이에 적합한 함수로 시그모이드 함수를 채택하게 된다.\\n\\n시그모이드 함수 g(z)는 g(Z) = 1 / (1 + e-Z) 로 \\n\\n좌표점 (0, 0.5)를 중심으로 음수로 갈수록 0에 수렴하고 양의 무한으로 갈 수록 1에 수렴하는 s자형 함수 이다.\\n\\nZ = W(transpose)X = 행렬곱(W, X)\\ng(z) = 1 / (1 + e-z)\\nH(x) = 1 / (1 + e-행렬곱(W,X))\\n'"
      ]
     },
     "execution_count": 1,
     "metadata": {},
     "output_type": "execute_result"
    }
   ],
   "source": [
    "\"\"\"\n",
    "Binary Classification\n",
    "둘 중 하나로 분류. \n",
    "ex)\n",
    "detect spam e-mail : Spam or Ham\n",
    "\n",
    "linear regression 으로는 부적합한 케이스.\n",
    "\n",
    "예를 들어 pass, nonpass를 분류할 때 \n",
    "\n",
    "6시간 이상 공부한 사람은 pass라는 데이터가 있다고하면\n",
    "\n",
    "50시간 이상 공부한 사람이 pass인 것을 학습시킬 경우. hypothesis의 기울기가 점점 낮아진다. \n",
    "\n",
    "0과 1사이인 0.5 이상이면 합격인 알고리즘이라 할 때 더 긴 시간을 공부한 사람의 데이터를 학습시킬 수록 기울기가 낮아지게 되고\n",
    "\n",
    "6시간 이상이면서 0.5미만인 데이터가 생긴다. 결국 실제로는 합격인데 불합격을 예측해버리는 상황이 된다.\n",
    "\n",
    "이런 문제를 해결하기위해 특정 두개의 값으로 부드럽게 수렴하는 그래프를 찾게 되는데 이에 적합한 함수로 시그모이드 함수를 채택하게 된다.\n",
    "\n",
    "시그모이드 함수 g(z)는 g(Z) = 1 / (1 + e-Z) 로 \n",
    "\n",
    "좌표점 (0, 0.5)를 중심으로 음수로 갈수록 0에 수렴하고 양의 무한으로 갈 수록 1에 수렴하는 s자형 함수 이다.\n",
    "\n",
    "Z = W(transpose)X = 행렬곱(W, X)\n",
    "g(z) = 1 / (1 + e-z)\n",
    "H(x) = 1 / (1 + e-행렬곱(W,X))\n",
    "\n",
    "그런데 실제 값과 가설함수간 거리의 양수를 구하기 위해 시그모이드 함수를 제곱할 경우. 물결치는 제곱함수 모양이 된다. 이 경우 그래프 중간중간\n",
    "기울기가 0이되는 구간이 생기게 되고 시작 위치에 따라 결과값이 달라지는 문제가 발생하기 때문에 cost함수로 제곱함수를 사용할 수 없다.\n",
    "\n",
    "\"\"\"\n"
   ]
  },
  {
   "cell_type": "code",
   "execution_count": null,
   "metadata": {},
   "outputs": [],
   "source": []
  }
 ],
 "metadata": {
  "kernelspec": {
   "display_name": "Python 3",
   "language": "python",
   "name": "python3"
  },
  "language_info": {
   "codemirror_mode": {
    "name": "ipython",
    "version": 3
   },
   "file_extension": ".py",
   "mimetype": "text/x-python",
   "name": "python",
   "nbconvert_exporter": "python",
   "pygments_lexer": "ipython3",
   "version": "3.7.3"
  }
 },
 "nbformat": 4,
 "nbformat_minor": 2
}
