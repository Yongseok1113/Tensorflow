{
 "cells": [
  {
   "cell_type": "code",
   "execution_count": 3,
   "metadata": {},
   "outputs": [
    {
     "name": "stdout",
     "output_type": "stream",
     "text": [
      "Extracting MNIST_data/train-images-idx3-ubyte.gz\n",
      "Extracting MNIST_data/train-labels-idx1-ubyte.gz\n",
      "Extracting MNIST_data/t10k-images-idx3-ubyte.gz\n",
      "Extracting MNIST_data/t10k-labels-idx1-ubyte.gz\n",
      "Epoch: 0001, Cost: 2.768981685\n",
      "Epoch: 0002, Cost: 1.081179043\n",
      "Epoch: 0003, Cost: 0.854562489\n",
      "Epoch: 0004, Cost: 0.745936510\n",
      "Epoch: 0005, Cost: 0.679030476\n",
      "Epoch: 0006, Cost: 0.632111026\n",
      "Epoch: 0007, Cost: 0.596774290\n",
      "Epoch: 0008, Cost: 0.568645284\n",
      "Epoch: 0009, Cost: 0.544816141\n",
      "Epoch: 0010, Cost: 0.525684090\n",
      "Epoch: 0011, Cost: 0.508802005\n",
      "Epoch: 0012, Cost: 0.494318838\n",
      "Epoch: 0013, Cost: 0.481345516\n",
      "Epoch: 0014, Cost: 0.469913275\n",
      "Epoch: 0015, Cost: 0.459112876\n",
      "Learning finished\n",
      "Accuracy:  0.8902\n",
      "Label:  [3]\n",
      "Prediction:  [6]\n"
     ]
    },
    {
     "data": {
      "image/png": "[encoded data removed]",
      "text/plain": [
       "<Figure size 432x288 with 1 Axes>"
      ]
     },
     "metadata": {
      "needs_background": "light"
     },
     "output_type": "display_data"
    }
   ],
   "source": [
    "\"\"\"\n",
    "MNIST \n",
    "0에서 9까지 숫자 중 하나가 그려진 이미지에서 숫자를 분류함\n",
    "이미지 사이즈는 28 x 28 사이즈 = 784\n",
    "\n",
    "\"\"\"\n",
    "\n",
    "import tensorflow as tf\n",
    "import matplotlib.pyplot as plt\n",
    "import random\n",
    "\n",
    "#데이터 준비\n",
    "tf.set_random_seed(777)  # for reproducibility\n",
    "\n",
    "from tensorflow.examples.tutorials.mnist import input_data\n",
    "\n",
    "mnist = input_data.read_data_sets(\"MNIST_data/\", one_hot=True)\n",
    "\n",
    "nb_classes = 10\n",
    "\n",
    "X = tf.placeholder(tf.float32, [None, 784])\n",
    "Y = tf.placeholder(tf.float32, [None, nb_classes])\n",
    "\n",
    "W = tf.Variable(tf.random_normal([784, nb_classes]), name=\"weight\")\n",
    "b = tf.Variable(tf.random_normal([nb_classes]), name=\"bias\")\n",
    "\n",
    "\n",
    "#학습 모델 준비\n",
    "\n",
    "# hypothesis -> shape = [None, nb_classes]\n",
    "\"\"\"\n",
    "hypothesis = [ [10개],\n",
    "               [10개],\n",
    "               ...\n",
    "               [10개]]\n",
    "\n",
    "\"\"\"\n",
    "hypothesis = tf.nn.softmax(tf.matmul(X, W) + b)\n",
    "#실제 결과가 None개, 따라서 reduce_sum 결과가 None개 나와야함. shape= [None, nb_classes] 이므로 2차원 축 제거 -> axis=1\n",
    "cost = tf.reduce_mean(-tf.reduce_sum(Y * tf.log(hypothesis), axis=1))\n",
    "\n",
    "train = tf.train.GradientDescentOptimizer(learning_rate=1e-1).minimize(cost)\n",
    "\n",
    "#모델 성능 평가 준비\n",
    "\n",
    "#테스트 모델\n",
    "is_correct = tf.equal(tf.argmax(hypothesis, 1), tf.argmax(Y, 1))\n",
    "#신뢰도 측정\n",
    "accuracy = tf.reduce_mean(tf.cast(is_correct, dtype=tf.float32))\n",
    "\n",
    "#파라미터\n",
    "num_epochs = 15\n",
    "batch_size = 100\n",
    "num_iterations = int(mnist.train.num_examples / batch_size)\n",
    "\n",
    "with tf.Session() as sess:\n",
    "    sess.run(tf.global_variables_initializer())\n",
    "    \n",
    "    #학습 사이클\n",
    "    for epoch in range(num_epochs):\n",
    "        avg_cost = 0;\n",
    "        \n",
    "        for i in range(num_iterations):\n",
    "            batch_xs, batch_ys = mnist.train.next_batch(batch_size)\n",
    "            _, cost_val = sess.run([train, cost], feed_dict={X:batch_xs, Y:batch_ys})\n",
    "            avg_cost += cost_val / num_iterations\n",
    "            \n",
    "        print(\"Epoch: {:04d}, Cost: {:.9f}\".format(epoch + 1, avg_cost))\n",
    "    \n",
    "    print(\"Learning finished\")\n",
    "\n",
    "    #테스트 데이터로 모델 테스트\n",
    "    print(\"Accuracy: \", accuracy.eval(session=sess, feed_dict={X:mnist.test.images, Y:mnist.test.labels}), )\n",
    "\n",
    "    #1개 추출 , 예측\n",
    "    r = random.randint(0, mnist.test.num_examples - 1)\n",
    "\n",
    "    print(\"Label: \", sess.run(tf.argmax(mnist.test.labels[r:r+1], 1)))\n",
    "    print(\"Prediction: \", sess.run(tf.argmax(hypothesis, 1), feed_dict={X:mnist.test.images[r:r+1]}), )\n",
    "\n",
    "    plt.imshow(mnist.test.images[r:r+1].reshape(28, 28), cmap=\"Greys\", interpolation=\"nearest\", )\n",
    "    plt.show()\n"
   ]
  },
  {
   "cell_type": "code",
   "execution_count": null,
   "metadata": {},
   "outputs": [],
   "source": []
  }
 ],
 "metadata": {
  "kernelspec": {
   "display_name": "Python 3",
   "language": "python",
   "name": "python3"
  },
  "language_info": {
   "codemirror_mode": {
    "name": "ipython",
    "version": 3
   },
   "file_extension": ".py",
   "mimetype": "text/x-python",
   "name": "python",
   "nbconvert_exporter": "python",
   "pygments_lexer": "ipython3",
   "version": "3.6.8"
  }
 },
 "nbformat": 4,
 "nbformat_minor": 2
}
